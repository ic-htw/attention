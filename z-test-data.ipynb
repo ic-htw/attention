{
 "cells": [
  {
   "cell_type": "code",
   "execution_count": 11,
   "metadata": {},
   "outputs": [],
   "source": [
    "%reload_ext autoreload\n",
    "%autoreload 2\n",
    "%matplotlib inline"
   ]
  },
  {
   "cell_type": "code",
   "execution_count": 2,
   "metadata": {},
   "outputs": [],
   "source": [
    "import numpy as np\n",
    "import torch\n",
    "from data_gen import data_gen\n",
    "from iclib.core import init_seed, pt_init, pt_use_cuda, pt_device\n",
    "from iclib.print_info import set_print, toggle_print, p_hb, p_he, p_ti"
   ]
  },
  {
   "cell_type": "code",
   "execution_count": 4,
   "metadata": {},
   "outputs": [
    {
     "name": "stdout",
     "output_type": "stream",
     "text": [
      "CUDA: False\n",
      "DEVICE: cpu:0\n"
     ]
    }
   ],
   "source": [
    "#pt_init()\n",
    "pt_init(use_gpu=False)\n",
    "print(\"CUDA:\", pt_use_cuda())\n",
    "print(\"DEVICE:\", pt_device())\n",
    "\n",
    "init_seed(42)\n",
    "set_print(True)"
   ]
  },
  {
   "cell_type": "code",
   "execution_count": 5,
   "metadata": {},
   "outputs": [
    {
     "data": {
      "text/plain": [
       "<Batch.Batch at 0x7f413dfc1cf8>"
      ]
     },
     "execution_count": 5,
     "metadata": {},
     "output_type": "execute_result"
    }
   ],
   "source": [
    "data = list(data_gen(num_words=11, batch_size=3, num_batches=2))\n",
    "b = data[0]\n",
    "b"
   ]
  },
  {
   "cell_type": "code",
   "execution_count": 6,
   "metadata": {},
   "outputs": [
    {
     "name": "stdout",
     "output_type": "stream",
     "text": [
      "tensor([[ 4,  8,  5,  7, 10,  3,  7,  8,  5],\n",
      "        [ 8,  8,  3,  6,  5,  2,  8,  6,  2],\n",
      "        [ 1, 10,  6,  9,  1, 10,  3,  7,  4]])\n",
      "dim: 2, size: [3, 9]\n",
      "[9, 9, 9]\n",
      "dim: 3, size: [3, 1, 9]\n"
     ]
    }
   ],
   "source": [
    "print(b.src)\n",
    "p_ti(b.src)\n",
    "print(b.src_lengths)\n",
    "p_ti(b.src_mask)"
   ]
  },
  {
   "cell_type": "code",
   "execution_count": 7,
   "metadata": {},
   "outputs": [
    {
     "name": "stdout",
     "output_type": "stream",
     "text": [
      "tensor([[ 1,  4,  8,  5,  7, 10,  3,  7,  8],\n",
      "        [ 1,  8,  8,  3,  6,  5,  2,  8,  6],\n",
      "        [ 1,  1, 10,  6,  9,  1, 10,  3,  7]])\n",
      "dim: 2, size: [3, 9]\n",
      "tensor([[ 4,  8,  5,  7, 10,  3,  7,  8,  5],\n",
      "        [ 8,  8,  3,  6,  5,  2,  8,  6,  2],\n",
      "        [ 1, 10,  6,  9,  1, 10,  3,  7,  4]])\n",
      "dim: 2, size: [3, 9]\n",
      "[10, 10, 10]\n",
      "tensor([[1, 1, 1, 1, 1, 1, 1, 1, 1],\n",
      "        [1, 1, 1, 1, 1, 1, 1, 1, 1],\n",
      "        [1, 1, 1, 1, 1, 1, 1, 1, 1]], dtype=torch.uint8)\n",
      "dim: 2, size: [3, 9]\n"
     ]
    }
   ],
   "source": [
    "print(b.trg)\n",
    "p_ti(b.trg)\n",
    "\n",
    "print(b.trg_y)\n",
    "p_ti(b.trg_y)\n",
    "\n",
    "print(b.trg_lengths)\n",
    "print(b.trg_mask)\n",
    "p_ti(b.trg_mask)"
   ]
  },
  {
   "cell_type": "code",
   "execution_count": 8,
   "metadata": {},
   "outputs": [
    {
     "name": "stdout",
     "output_type": "stream",
     "text": [
      "3\n",
      "27\n"
     ]
    }
   ],
   "source": [
    "print(b.nseqs)\n",
    "print(b.ntokens)"
   ]
  }
 ],
 "metadata": {
  "kernelspec": {
   "display_name": "Python 3",
   "language": "python",
   "name": "python3"
  },
  "language_info": {
   "codemirror_mode": {
    "name": "ipython",
    "version": 3
   },
   "file_extension": ".py",
   "mimetype": "text/x-python",
   "name": "python",
   "nbconvert_exporter": "python",
   "pygments_lexer": "ipython3",
   "version": "3.6.8"
  }
 },
 "nbformat": 4,
 "nbformat_minor": 2
}
