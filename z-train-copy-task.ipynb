{
 "cells": [
  {
   "cell_type": "code",
   "execution_count": 11,
   "metadata": {},
   "outputs": [],
   "source": [
    "%reload_ext autoreload\n",
    "%autoreload 2\n",
    "%matplotlib inline"
   ]
  },
  {
   "cell_type": "code",
   "execution_count": 23,
   "metadata": {},
   "outputs": [],
   "source": [
    "from pathlib import Path\n",
    "import numpy as np\n",
    "import matplotlib.pyplot as plt\n",
    "import torch\n",
    "import torch.nn as nn\n",
    "from data_gen import data_gen\n",
    "from model_seq2seq import Seq2SeqModel\n",
    "from model_generator import Generator\n",
    "from simple_loss_compute import SimpleLossCompute\n",
    "from run_epoch import run_epoch\n",
    "from print_examples import print_examples\n",
    "from iclib.core import init_seed, pt_init, pt_use_cuda, pt_device\n",
    "from iclib.print_info import set_print, toggle_print, p_hb, p_he, p_ti"
   ]
  },
  {
   "cell_type": "code",
   "execution_count": 3,
   "metadata": {},
   "outputs": [],
   "source": [
    "def plot_perplexity(perplexities):\n",
    "    \"\"\"plot perplexities\"\"\"\n",
    "    plt.title(\"Perplexity per Epoch\")\n",
    "    plt.xlabel(\"Epoch\")\n",
    "    plt.ylabel(\"Perplexity\")\n",
    "    plt.plot(perplexities)"
   ]
  },
  {
   "cell_type": "code",
   "execution_count": 4,
   "metadata": {},
   "outputs": [
    {
     "name": "stdout",
     "output_type": "stream",
     "text": [
      "CUDA: True\n",
      "DEVICE: cuda:0\n"
     ]
    }
   ],
   "source": [
    "pt_init()\n",
    "#pt_init(use_gpu=False)\n",
    "print(\"CUDA:\", pt_use_cuda())\n",
    "print(\"DEVICE:\", pt_device())\n",
    "\n",
    "init_seed(42)\n",
    "set_print(False)\n",
    "\n",
    "V = 11\n",
    "E = 32\n",
    "H = 64\n",
    "L = 1\n",
    "dropout = 0.1\n",
    "\n",
    "S = 10"
   ]
  },
  {
   "cell_type": "code",
   "execution_count": 18,
   "metadata": {
    "scrolled": true
   },
   "outputs": [],
   "source": [
    "model = Seq2SeqModel(V, V, E, E, H, L, dropout, Generator(H, V))\n",
    "\n",
    "if pt_use_cuda():\n",
    "    model.cuda(pt_device())\n",
    "    \n",
    "criterion = nn.NLLLoss(reduction=\"sum\", ignore_index=0)\n",
    "optim = torch.optim.Adam(model.parameters(), lr=0.0003)\n",
    "\n",
    "eval_data = list(data_gen(num_words=V, batch_size=1, num_batches=100))\n",
    "dev_perplexities = []"
   ]
  },
  {
   "cell_type": "code",
   "execution_count": 19,
   "metadata": {
    "scrolled": false
   },
   "outputs": [
    {
     "name": "stdout",
     "output_type": "stream",
     "text": [
      "Epoch 0\n",
      "Epoch Step: 50 Loss: 19.852442 Tokens per Sec: 14333.259829\n",
      "Epoch Step: 100 Loss: 17.783201 Tokens per Sec: 14401.510779\n",
      "total_tokens:28800\n",
      "total_tokens:900\n",
      "Evaluation perplexity: 7.381318\n",
      "\n",
      "Example #1\n",
      "Src :  8 10 10 4 6 8 10 6 6\n",
      "Trg :  8 10 10 4 6 8 10 6 6\n",
      "Pred:  6 6 6 6 6 6 6 6 6\n",
      "\n",
      "Example #2\n",
      "Src :  3 6 3 5 2 10 4 8 3\n",
      "Trg :  3 6 3 5 2 10 4 8 3\n",
      "Pred:  3 3 3 3 3 3 3 3 3\n",
      "\n",
      "Epoch 1\n",
      "Epoch Step: 50 Loss: 15.420979 Tokens per Sec: 13739.797199\n",
      "Epoch Step: 100 Loss: 12.863676 Tokens per Sec: 13847.674969\n",
      "total_tokens:28800\n",
      "total_tokens:900\n",
      "Evaluation perplexity: 3.969944\n",
      "\n",
      "Example #1\n",
      "Src :  8 10 10 4 6 8 10 6 6\n",
      "Trg :  8 10 10 4 6 8 10 6 6\n",
      "Pred:  10 10 6 10 6 10 6 10 6\n",
      "\n",
      "Example #2\n",
      "Src :  3 6 3 5 2 10 4 8 3\n",
      "Trg :  3 6 3 5 2 10 4 8 3\n",
      "Pred:  3 3 6 3 4 3 3 3 10\n",
      "\n",
      "Epoch 2\n",
      "Epoch Step: 50 Loss: 9.269669 Tokens per Sec: 13628.566613\n",
      "Epoch Step: 100 Loss: 8.007423 Tokens per Sec: 13960.938022\n",
      "total_tokens:28800\n",
      "total_tokens:900\n",
      "Evaluation perplexity: 2.388028\n",
      "\n",
      "Example #1\n",
      "Src :  8 10 10 4 6 8 10 6 6\n",
      "Trg :  8 10 10 4 6 8 10 6 6\n",
      "Pred:  10 8 10 6 4 6 10 8 6\n",
      "\n",
      "Example #2\n",
      "Src :  3 6 3 5 2 10 4 8 3\n",
      "Trg :  3 6 3 5 2 10 4 8 3\n",
      "Pred:  3 3 6 5 4 10 3 8 3\n",
      "\n",
      "Epoch 3\n",
      "Epoch Step: 50 Loss: 6.138293 Tokens per Sec: 14260.455542\n",
      "Epoch Step: 100 Loss: 5.170821 Tokens per Sec: 14411.366081\n",
      "total_tokens:28800\n",
      "total_tokens:900\n",
      "Evaluation perplexity: 1.788594\n",
      "\n",
      "Example #1\n",
      "Src :  8 10 10 4 6 8 10 6 6\n",
      "Trg :  8 10 10 4 6 8 10 6 6\n",
      "Pred:  10 8 10 6 4 6 10 8 10\n",
      "\n",
      "Example #2\n",
      "Src :  3 6 3 5 2 10 4 8 3\n",
      "Trg :  3 6 3 5 2 10 4 8 3\n",
      "Pred:  3 6 3 5 10 4 8 3 2\n",
      "\n",
      "Epoch 4\n",
      "Epoch Step: 50 Loss: 4.562522 Tokens per Sec: 14157.556755\n",
      "Epoch Step: 100 Loss: 3.689779 Tokens per Sec: 14053.424252\n",
      "total_tokens:28800\n",
      "total_tokens:900\n",
      "Evaluation perplexity: 1.491929\n",
      "\n",
      "Example #1\n",
      "Src :  8 10 10 4 6 8 10 6 6\n",
      "Trg :  8 10 10 4 6 8 10 6 6\n",
      "Pred:  8 10 10 4 6 8 10 6 6\n",
      "\n",
      "Example #2\n",
      "Src :  3 6 3 5 2 10 4 8 3\n",
      "Trg :  3 6 3 5 2 10 4 8 3\n",
      "Pred:  3 6 3 5 2 10 4 8 3\n",
      "\n",
      "Epoch 5\n",
      "Epoch Step: 50 Loss: 3.013608 Tokens per Sec: 14037.028224\n",
      "Epoch Step: 100 Loss: 2.461135 Tokens per Sec: 14187.543906\n",
      "total_tokens:28800\n",
      "total_tokens:900\n",
      "Evaluation perplexity: 1.286567\n",
      "\n",
      "Example #1\n",
      "Src :  8 10 10 4 6 8 10 6 6\n",
      "Trg :  8 10 10 4 6 8 10 6 6\n",
      "Pred:  8 10 10 4 6 8 6 10 6\n",
      "\n",
      "Example #2\n",
      "Src :  3 6 3 5 2 10 4 8 3\n",
      "Trg :  3 6 3 5 2 10 4 8 3\n",
      "Pred:  3 6 3 5 2 10 4 8 3\n",
      "\n",
      "Epoch 6\n",
      "Epoch Step: 50 Loss: 1.960170 Tokens per Sec: 14114.008459\n",
      "Epoch Step: 100 Loss: 1.868676 Tokens per Sec: 14168.267320\n",
      "total_tokens:28800\n",
      "total_tokens:900\n",
      "Evaluation perplexity: 1.183383\n",
      "\n",
      "Example #1\n",
      "Src :  8 10 10 4 6 8 10 6 6\n",
      "Trg :  8 10 10 4 6 8 10 6 6\n",
      "Pred:  8 10 10 4 6 8 10 6 6\n",
      "\n",
      "Example #2\n",
      "Src :  3 6 3 5 2 10 4 8 3\n",
      "Trg :  3 6 3 5 2 10 4 8 3\n",
      "Pred:  3 6 3 5 2 10 4 8 3\n",
      "\n",
      "Epoch 7\n",
      "Epoch Step: 50 Loss: 1.446986 Tokens per Sec: 14316.727333\n",
      "Epoch Step: 100 Loss: 0.973174 Tokens per Sec: 13937.233643\n",
      "total_tokens:28800\n",
      "total_tokens:900\n",
      "Evaluation perplexity: 1.114401\n",
      "\n",
      "Example #1\n",
      "Src :  8 10 10 4 6 8 10 6 6\n",
      "Trg :  8 10 10 4 6 8 10 6 6\n",
      "Pred:  8 10 10 4 6 8 10 6 6\n",
      "\n",
      "Example #2\n",
      "Src :  3 6 3 5 2 10 4 8 3\n",
      "Trg :  3 6 3 5 2 10 4 8 3\n",
      "Pred:  3 6 3 5 2 10 4 8 3\n",
      "\n",
      "Epoch 8\n",
      "Epoch Step: 50 Loss: 0.942205 Tokens per Sec: 14147.382623\n",
      "Epoch Step: 100 Loss: 0.787940 Tokens per Sec: 13802.636620\n",
      "total_tokens:28800\n",
      "total_tokens:900\n",
      "Evaluation perplexity: 1.069328\n",
      "\n",
      "Example #1\n",
      "Src :  8 10 10 4 6 8 10 6 6\n",
      "Trg :  8 10 10 4 6 8 10 6 6\n",
      "Pred:  8 10 10 4 6 8 10 6 6\n",
      "\n",
      "Example #2\n",
      "Src :  3 6 3 5 2 10 4 8 3\n",
      "Trg :  3 6 3 5 2 10 4 8 3\n",
      "Pred:  3 6 3 5 2 10 4 8 3\n",
      "\n",
      "Epoch 9\n",
      "Epoch Step: 50 Loss: 0.770437 Tokens per Sec: 13899.329036\n",
      "Epoch Step: 100 Loss: 0.583075 Tokens per Sec: 13748.973937\n",
      "total_tokens:28800\n",
      "total_tokens:900\n",
      "Evaluation perplexity: 1.049610\n",
      "\n",
      "Example #1\n",
      "Src :  8 10 10 4 6 8 10 6 6\n",
      "Trg :  8 10 10 4 6 8 10 6 6\n",
      "Pred:  8 10 10 4 6 8 10 6 6\n",
      "\n",
      "Example #2\n",
      "Src :  3 6 3 5 2 10 4 8 3\n",
      "Trg :  3 6 3 5 2 10 4 8 3\n",
      "Pred:  3 6 3 5 2 10 4 8 3\n",
      "\n"
     ]
    }
   ],
   "source": [
    "for epoch in range(10):\n",
    "    print(\"Epoch %d\" % epoch)\n",
    "    model.train()\n",
    "    data = data_gen(num_words=V, batch_size=32, num_batches=100)\n",
    "    run_epoch(data, model, SimpleLossCompute(model.generator, criterion, optim))\n",
    "    \n",
    "    model.eval()\n",
    "    with torch.no_grad(): \n",
    "        perplexity = run_epoch(eval_data, model, SimpleLossCompute(model.generator, criterion, None))\n",
    "        print(\"Evaluation perplexity: %f\" % perplexity)\n",
    "        dev_perplexities.append(perplexity)\n",
    "        print_examples(eval_data, model, n=2, max_len=9)\n",
    "        \n"
   ]
  },
  {
   "cell_type": "code",
   "execution_count": 20,
   "metadata": {},
   "outputs": [
    {
     "data": {
      "image/png": "[encoded data removed]",
      "text/plain": [
       "<Figure size 432x288 with 1 Axes>"
      ]
     },
     "metadata": {
      "needs_background": "light"
     },
     "output_type": "display_data"
    }
   ],
   "source": [
    "plot_perplexity(dev_perplexities)"
   ]
  },
  {
   "cell_type": "code",
   "execution_count": 22,
   "metadata": {},
   "outputs": [],
   "source": [
    "mpath = Path('.')/'models'\n",
    "mfile = mpath/'copy-task.pth'\n",
    "torch.save(model.state_dict(), mfile)"
   ]
  },
  {
   "cell_type": "code",
   "execution_count": null,
   "metadata": {},
   "outputs": [],
   "source": []
  }
 ],
 "metadata": {
  "kernelspec": {
   "display_name": "Python 3",
   "language": "python",
   "name": "python3"
  },
  "language_info": {
   "codemirror_mode": {
    "name": "ipython",
    "version": 3
   },
   "file_extension": ".py",
   "mimetype": "text/x-python",
   "name": "python",
   "nbconvert_exporter": "python",
   "pygments_lexer": "ipython3",
   "version": "3.6.8"
  }
 },
 "nbformat": 4,
 "nbformat_minor": 2
}
